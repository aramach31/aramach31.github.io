{
 "cells": [
  {
   "cell_type": "code",
   "execution_count": 1,
   "id": "ad5122a3",
   "metadata": {},
   "outputs": [],
   "source": [
    "def split_transcript(file_path, lines_per_file):\n",
    "    with open(file_path, 'r') as file:\n",
    "        lines = file.readlines()\n",
    "\n",
    "    total_lines = len(lines)\n",
    "    for i in range(0, total_lines, lines_per_file):\n",
    "        with open(f\"{file_path}_part_{i//lines_per_file + 1}.txt\", 'w') as file:\n",
    "            file.writelines(lines[i:i + lines_per_file])\n",
    "\n",
    "# Example usage\n",
    "split_transcript('/Users/adityar/Downloads/mgmt_meeting_141123_ft.txt', 100)  # Adjust the path and lines_per_file as needed"
   ]
  },
  {
   "cell_type": "code",
   "execution_count": 4,
   "id": "62ce3417",
   "metadata": {},
   "outputs": [],
   "source": [
    "def split_transcript_by_characters(file_path, chars_per_file):\n",
    "    part_number = 1\n",
    "    current_chars = 0\n",
    "    current_content = ''\n",
    "\n",
    "    with open(file_path, 'r') as file:\n",
    "        while True:\n",
    "            char = file.read(1)\n",
    "            if not char:\n",
    "                # End of file\n",
    "                break\n",
    "\n",
    "            current_content += char\n",
    "            current_chars += 1\n",
    "\n",
    "            if current_chars >= chars_per_file:\n",
    "                with open(f\"{file_path}_part_{part_number}.txt\", 'w') as output_file:\n",
    "                    output_file.write(current_content)\n",
    "                part_number += 1\n",
    "                current_chars = 0\n",
    "                current_content = ''\n",
    "\n",
    "    # Write any remaining content to a file\n",
    "    if current_content:\n",
    "        with open(f\"{file_path}_part_{part_number}.txt\", 'w') as output_file:\n",
    "            output_file.write(current_content)\n",
    "\n",
    "# Example usage\n",
    "split_transcript_by_characters('/Users/adityar/Downloads/mgmt_meeting_141123_ft.txt', 10000)  # Adjust the path and chars_per_file as needed"
   ]
  },
  {
   "cell_type": "code",
   "execution_count": null,
   "id": "a551609f",
   "metadata": {},
   "outputs": [],
   "source": []
  }
 ],
 "metadata": {
  "kernelspec": {
   "display_name": "Python 3 (ipykernel)",
   "language": "python",
   "name": "python3"
  },
  "language_info": {
   "codemirror_mode": {
    "name": "ipython",
    "version": 3
   },
   "file_extension": ".py",
   "mimetype": "text/x-python",
   "name": "python",
   "nbconvert_exporter": "python",
   "pygments_lexer": "ipython3",
   "version": "3.9.12"
  }
 },
 "nbformat": 4,
 "nbformat_minor": 5
}
